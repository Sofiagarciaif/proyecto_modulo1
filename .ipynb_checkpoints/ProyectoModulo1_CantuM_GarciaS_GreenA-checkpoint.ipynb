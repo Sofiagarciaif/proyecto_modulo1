{
 "cells": [
  {
   "cell_type": "markdown",
   "metadata": {},
   "source": [
    "<img style=\"float: left; margin: 30px 15px 15px 15px;\" src=\"https://pngimage.net/wp-content/uploads/2018/06/logo-iteso-png-5.png\" width=\"300\" height=\"500\" /> \n",
    "    \n",
    "    \n",
    "### <font color='navy'> Simulación de procesos financieros. \n",
    "\n",
    "**Nombres:** Maria Jose Cantu, Sofia Garcia Mora y Andres Green\n",
    "\n",
    "**Fecha:** 2020\n",
    "\n",
    "**Expediente** : if708916, if714303 y \n",
    "    \n",
    "**Profesor:** Oscar David Jaramillo Zuluaga.\n",
    "\n",
    "**LINK TAREA:** https://github.com/mariajosecanture/PROYECTO_SG_MJC\n",
    "\n",
    "# PROYECTO"
   ]
  },
  {
   "cell_type": "markdown",
   "metadata": {},
   "source": [
    "### 1.1 Título del trabajo.\n",
    "> Hacer distintos modelos a base de datos de las ultimas 10 temporadas de la English Premiere League, incluyendo la temporada actual utilizando *simulación MonteCarlo*.\n",
    "\n",
    "\n",
    "### 1.2 Objetivos. ar er ir\n",
    "\n",
    "> - Hacer el presente trabajo nos va a ayudar a reforzar los temas visto a lo largo del semestre en la clase de simulación de procesos financieros. \n",
    "> - Hacer una practicar real con datos de nuestro interes y modelar nodos de nuestro interes. \n",
    "> - Ayudar como evidencia.\n",
    "\n",
    "> #### 1.1 Objetivo general.\n",
    ">  - Realizar el presente trabajo nos va a ayudar a paracticar la creación de modelos con la ayuda de la simulación de MonteCarlo.\n",
    " \n",
    "\n",
    "> #### 1.2 Objetivos específicos\n",
    "> - Definir nodos y variables que se desean simular.\n",
    "> - Obtener la base de datos con la que se va a trabajar.\n",
    "> - Realizar el modelo para cada uno de los nodos que se definieron anteriormente con un código optimo y funcional. \n",
    "> - Mostrar los resultados de la simulación. \n",
    "> - Escribir la conclusión de nuestro proyecto. \n",
    "\n",
    "\n",
    "### 1.3 Definición del problema.\n",
    "Se debe describir en una cuartilla máximo cuál es el escenario de negocio que se va a modelar, identificar cuáles son los supuestos que defines en el negocio y cuáles son los \"nodos\" o \"escenarios\" que identificas necesarios simular y porqué. Debes elaborar un diagrama de inicio a fin, identificando los \"nodos\" o \"escenarios\" a simular.\n",
    "\n",
    "> En el presente proyecto se decidió modelar con respecto a los resultados de las ultimas 10 temporadas una gran cantidad de portafolios aleatoriamente y posteriormente se buscará obtener la mejor opción de inversión al hacer uso de la *simulación MonteCarlo* y buscar la mejor ponderación para cada uno de los activos que escojamos.\n",
    "\n",
    "> Para realizar proyecto, es necesario identificar primeramente cúales son los supuestos que se definen y son los siguientes: \n",
    "- Típicamente, invertimos en una colección de diferentes activos: invertimos en un portafolio.\n",
    "- Cuando combinamos activos en un portafolio, el riesgo idiosincrático (fuente de riesgo afecta a cada activo en particular por razones específicas) tiende a eliminarse.\n",
    "- Combinar activos en un portafolio permite diversificar el riesgo (correlación negativa) \n",
    "- Un portafolio eficiente son los portafolios sobre la frontera de minima varianza que estan por encima y a partir del portafolio de la minima varianza.\n",
    "\n",
    "> Por otra parte, también es necesario definir cúales son los \"nodos\" o \"escenarios\" que se van a simular y son los siguientes: \n",
    "- Diversas opciones de ponderaciones de las acciones elegidas para lograr un portafolio óptimo. \n",
    "\n",
    "### 1.4 Nodos y variables que se decidieron simular y porqué\n",
    "> En este apartado el objetivo es identificar los problemas que se van a abordar, para examinar la factibilidad y viabilidad de la simulación de los nodos escogidos. Posteriormente se debe de argumentar del porqué de los nodos escogidos.\n",
    "\n",
    "### 1.5 Definición de hipótesis y supuestos.\n",
    ">  Para poder modelar un proceso de negocio o cualquiera otro proceso en el área de las ingenierías o ciencias sociales, después de identificar el objeto de estudio, es importante indicar cuales son los supuestos que se dan por verdaderos a lo largo de la ejecución del proceso. Estos supuestos se deben indicar en forma de variables e hipótesis (son diferentes), porque si puedes definir en un valor el supuesto lo llamaremos \"supuesto constante\" y si no es posible identificarlo con un número entonces será una hipótesis que afectará la construcción de los escenarios posibles del proceso.\n",
    "\n"
   ]
  },
  {
   "cell_type": "markdown",
   "metadata": {},
   "source": [
    "### 1.6 Obtención de bases de datos\n",
    "> El tercer paso del proyecto es indicar de dónde se obtendrán las bases de datos, que indican como se han comportado las variables que identificaste en tu proceso de negocio que vas a simular. En esta investigación debes haber encontrado información propia de la empresa, organización o institución que vas a simular y otra parte de la información debe provenir de investigación que realices en fuentes de información públicas o privadas como las que tiene SECOBI, ahí normalmente y dependiendo del problema elegido, se investigan variables económicas, como tasas de interés, inflación, tipo de cambio, etc., de varios años, por poner un ejemplo.\n",
    "\n"
   ]
  },
  {
   "cell_type": "markdown",
   "metadata": {},
   "source": [
    "### 1.7 Visualización de resultados de simulación.\n",
    "> Se deben simular al menos 4  \"nodos\" o \"escenarios\" en tu problema. Para la segunda entrega debes haber elaborado un programa que simule dos de ellos, los primeros dos de tu diagrama.\n",
    "> Para la entrega final deben de tener los 4 nodos con todas sus simulaciones.\n"
   ]
  },
  {
   "cell_type": "markdown",
   "metadata": {},
   "source": [
    "\n",
    "### 1.6 Conclusiones.\n",
    "> Mucho cuidado, las conclusiones no son cualquier cosa. Se debe concluir respecto a los objetivos planteados de acuerdo a los resultados obtenidos.\n",
    "\n"
   ]
  },
  {
   "cell_type": "markdown",
   "metadata": {},
   "source": [
    "### 1.7 Referencias.\n",
    "> Citar (en formato APA) la bibliografía utilizada."
   ]
  },
  {
   "cell_type": "code",
   "execution_count": null,
   "metadata": {},
   "outputs": [],
   "source": []
  }
 ],
 "metadata": {
  "kernelspec": {
   "display_name": "Python 3",
   "language": "python",
   "name": "python3"
  },
  "language_info": {
   "codemirror_mode": {
    "name": "ipython",
    "version": 3
   },
   "file_extension": ".py",
   "mimetype": "text/x-python",
   "name": "python",
   "nbconvert_exporter": "python",
   "pygments_lexer": "ipython3",
   "version": "3.7.3"
  }
 },
 "nbformat": 4,
 "nbformat_minor": 4
}
